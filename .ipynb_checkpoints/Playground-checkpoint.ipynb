{
 "cells": [
  {
   "cell_type": "code",
   "execution_count": 1,
   "metadata": {},
   "outputs": [],
   "source": [
    "import os\n",
    "import sys\n",
    "import pandas as pd\n",
    "import numpy as np\n",
    "import matplotlib.pyplot as plt\n",
    "import statsmodels.api as sm\n",
    "from sklearn import preprocessing, linear_model\n",
    "from sklearn.metrics import mean_squared_error, r2_score\n",
    "from sklearn.model_selection import KFold\n",
    "\n",
    "from IPython.display import display, Math, Latex"
   ]
  },
  {
   "cell_type": "markdown",
   "metadata": {},
   "source": [
    "# Regression Analysis"
   ]
  },
  {
   "cell_type": "markdown",
   "metadata": {},
   "source": [
    "#### Acquiring the dataset\n",
    "Reference: https://qog.pol.gu.se/data/datadownloads/qogstandarddata"
   ]
  },
  {
   "cell_type": "code",
   "execution_count": 2,
   "metadata": {},
   "outputs": [
    {
     "data": {
      "text/html": [
       "<div>\n",
       "<style scoped>\n",
       "    .dataframe tbody tr th:only-of-type {\n",
       "        vertical-align: middle;\n",
       "    }\n",
       "\n",
       "    .dataframe tbody tr th {\n",
       "        vertical-align: top;\n",
       "    }\n",
       "\n",
       "    .dataframe thead th {\n",
       "        text-align: right;\n",
       "    }\n",
       "</style>\n",
       "<table border=\"1\" class=\"dataframe\">\n",
       "  <thead>\n",
       "    <tr style=\"text-align: right;\">\n",
       "      <th></th>\n",
       "      <th>wdi_lifexp</th>\n",
       "      <th>wdi_popden</th>\n",
       "      <th>gle_cgdpc</th>\n",
       "      <th>bti_acp</th>\n",
       "      <th>bti_pdi</th>\n",
       "      <th>fh_pair</th>\n",
       "      <th>al_ethnic</th>\n",
       "      <th>al_language</th>\n",
       "      <th>al_religion</th>\n",
       "      <th>bti_aar</th>\n",
       "      <th>vdem_gender</th>\n",
       "      <th>bti_ci</th>\n",
       "      <th>bti_foe</th>\n",
       "      <th>wdi_araland</th>\n",
       "      <th>wdi_forest</th>\n",
       "    </tr>\n",
       "  </thead>\n",
       "  <tbody>\n",
       "    <tr>\n",
       "      <th>0</th>\n",
       "      <td>62.902683</td>\n",
       "      <td>50.176178</td>\n",
       "      <td>1282.6400</td>\n",
       "      <td>3.0</td>\n",
       "      <td>3.0</td>\n",
       "      <td>2</td>\n",
       "      <td>0.769345</td>\n",
       "      <td>0.614146</td>\n",
       "      <td>0.271684</td>\n",
       "      <td>4.0</td>\n",
       "      <td>0.530792</td>\n",
       "      <td>9.0</td>\n",
       "      <td>4.0</td>\n",
       "      <td>11.903011</td>\n",
       "      <td>2.067825</td>\n",
       "    </tr>\n",
       "    <tr>\n",
       "      <th>1</th>\n",
       "      <td>77.998390</td>\n",
       "      <td>105.441750</td>\n",
       "      <td>8516.7002</td>\n",
       "      <td>5.0</td>\n",
       "      <td>6.0</td>\n",
       "      <td>9</td>\n",
       "      <td>0.220426</td>\n",
       "      <td>0.039925</td>\n",
       "      <td>0.471852</td>\n",
       "      <td>8.0</td>\n",
       "      <td>0.828077</td>\n",
       "      <td>3.0</td>\n",
       "      <td>7.0</td>\n",
       "      <td>22.467154</td>\n",
       "      <td>28.191971</td>\n",
       "    </tr>\n",
       "    <tr>\n",
       "      <th>2</th>\n",
       "      <td>75.635025</td>\n",
       "      <td>16.422152</td>\n",
       "      <td>5402.1699</td>\n",
       "      <td>5.0</td>\n",
       "      <td>3.0</td>\n",
       "      <td>7</td>\n",
       "      <td>0.339400</td>\n",
       "      <td>0.442662</td>\n",
       "      <td>0.009128</td>\n",
       "      <td>5.0</td>\n",
       "      <td>0.770516</td>\n",
       "      <td>7.0</td>\n",
       "      <td>6.0</td>\n",
       "      <td>3.136109</td>\n",
       "      <td>0.818057</td>\n",
       "    </tr>\n",
       "    <tr>\n",
       "      <th>4</th>\n",
       "      <td>60.806732</td>\n",
       "      <td>21.593380</td>\n",
       "      <td>3771.2000</td>\n",
       "      <td>2.0</td>\n",
       "      <td>3.0</td>\n",
       "      <td>3</td>\n",
       "      <td>0.786720</td>\n",
       "      <td>0.787019</td>\n",
       "      <td>0.627644</td>\n",
       "      <td>3.0</td>\n",
       "      <td>0.680371</td>\n",
       "      <td>4.0</td>\n",
       "      <td>4.0</td>\n",
       "      <td>3.930376</td>\n",
       "      <td>46.507420</td>\n",
       "    </tr>\n",
       "    <tr>\n",
       "      <th>6</th>\n",
       "      <td>71.724754</td>\n",
       "      <td>115.348816</td>\n",
       "      <td>9793.3096</td>\n",
       "      <td>2.0</td>\n",
       "      <td>2.0</td>\n",
       "      <td>6</td>\n",
       "      <td>0.204672</td>\n",
       "      <td>0.205392</td>\n",
       "      <td>0.489895</td>\n",
       "      <td>3.0</td>\n",
       "      <td>0.576483</td>\n",
       "      <td>4.0</td>\n",
       "      <td>3.0</td>\n",
       "      <td>23.305470</td>\n",
       "      <td>13.466484</td>\n",
       "    </tr>\n",
       "  </tbody>\n",
       "</table>\n",
       "</div>"
      ],
      "text/plain": [
       "   wdi_lifexp  wdi_popden  gle_cgdpc  bti_acp  bti_pdi  fh_pair  al_ethnic  \\\n",
       "0   62.902683   50.176178  1282.6400      3.0      3.0        2   0.769345   \n",
       "1   77.998390  105.441750  8516.7002      5.0      6.0        9   0.220426   \n",
       "2   75.635025   16.422152  5402.1699      5.0      3.0        7   0.339400   \n",
       "4   60.806732   21.593380  3771.2000      2.0      3.0        3   0.786720   \n",
       "6   71.724754  115.348816  9793.3096      2.0      2.0        6   0.204672   \n",
       "\n",
       "   al_language  al_religion  bti_aar  vdem_gender  bti_ci  bti_foe  \\\n",
       "0     0.614146     0.271684      4.0     0.530792     9.0      4.0   \n",
       "1     0.039925     0.471852      8.0     0.828077     3.0      7.0   \n",
       "2     0.442662     0.009128      5.0     0.770516     7.0      6.0   \n",
       "4     0.787019     0.627644      3.0     0.680371     4.0      4.0   \n",
       "6     0.205392     0.489895      3.0     0.576483     4.0      3.0   \n",
       "\n",
       "   wdi_araland  wdi_forest  \n",
       "0    11.903011    2.067825  \n",
       "1    22.467154   28.191971  \n",
       "2     3.136109    0.818057  \n",
       "4     3.930376   46.507420  \n",
       "6    23.305470   13.466484  "
      ]
     },
     "execution_count": 2,
     "metadata": {},
     "output_type": "execute_result"
    }
   ],
   "source": [
    "df = pd.read_csv(\"Datasets/qog_bas_cs_jan18.csv\")\n",
    "df = df[[\"cname\",\"wdi_lifexp\",\"wdi_popden\",\"gle_cgdpc\",\"bti_acp\", \"bti_pdi\", \"fh_pair\", \"al_ethnic\",\"al_language\",\"al_religion\",\"bti_aar\",\"vdem_gender\",\"bti_ci\",\"bti_foe\",\"wdi_araland\", \"wdi_forest\"]]\n",
    "df = df.dropna()\n",
    "\n",
    "for y in df.columns:\n",
    "    if(df[y].dtype == np.object):\n",
    "        df = df.drop([y], 1)\n",
    "        \n",
    "df.head()"
   ]
  },
  {
   "cell_type": "markdown",
   "metadata": {},
   "source": [
    "#### Computing Pearson 's correlation coefficient between life expectancy and other values"
   ]
  },
  {
   "cell_type": "code",
   "execution_count": 3,
   "metadata": {},
   "outputs": [
    {
     "data": {
      "text/html": [
       "<div>\n",
       "<style scoped>\n",
       "    .dataframe tbody tr th:only-of-type {\n",
       "        vertical-align: middle;\n",
       "    }\n",
       "\n",
       "    .dataframe tbody tr th {\n",
       "        vertical-align: top;\n",
       "    }\n",
       "\n",
       "    .dataframe thead th {\n",
       "        text-align: right;\n",
       "    }\n",
       "</style>\n",
       "<table border=\"1\" class=\"dataframe\">\n",
       "  <thead>\n",
       "    <tr style=\"text-align: right;\">\n",
       "      <th></th>\n",
       "      <th>wdi_lifexp</th>\n",
       "      <th>wdi_popden</th>\n",
       "      <th>gle_cgdpc</th>\n",
       "      <th>bti_acp</th>\n",
       "      <th>bti_pdi</th>\n",
       "      <th>fh_pair</th>\n",
       "      <th>al_ethnic</th>\n",
       "      <th>al_language</th>\n",
       "      <th>al_religion</th>\n",
       "      <th>bti_aar</th>\n",
       "      <th>vdem_gender</th>\n",
       "      <th>bti_ci</th>\n",
       "      <th>bti_foe</th>\n",
       "      <th>wdi_araland</th>\n",
       "      <th>wdi_forest</th>\n",
       "    </tr>\n",
       "  </thead>\n",
       "  <tbody>\n",
       "    <tr>\n",
       "      <th>0</th>\n",
       "      <td>1.008772</td>\n",
       "      <td>0.19213</td>\n",
       "      <td>0.50234</td>\n",
       "      <td>0.423312</td>\n",
       "      <td>0.199336</td>\n",
       "      <td>0.514225</td>\n",
       "      <td>-0.606459</td>\n",
       "      <td>-0.622697</td>\n",
       "      <td>-0.316992</td>\n",
       "      <td>0.15152</td>\n",
       "      <td>0.202752</td>\n",
       "      <td>-0.427087</td>\n",
       "      <td>0.154698</td>\n",
       "      <td>0.024731</td>\n",
       "      <td>0.088662</td>\n",
       "    </tr>\n",
       "  </tbody>\n",
       "</table>\n",
       "</div>"
      ],
      "text/plain": [
       "   wdi_lifexp  wdi_popden  gle_cgdpc   bti_acp   bti_pdi   fh_pair  al_ethnic  \\\n",
       "0    1.008772     0.19213    0.50234  0.423312  0.199336  0.514225  -0.606459   \n",
       "\n",
       "   al_language  al_religion  bti_aar  vdem_gender    bti_ci   bti_foe  \\\n",
       "0    -0.622697    -0.316992  0.15152     0.202752 -0.427087  0.154698   \n",
       "\n",
       "   wdi_araland  wdi_forest  \n",
       "0     0.024731    0.088662  "
      ]
     },
     "execution_count": 3,
     "metadata": {},
     "output_type": "execute_result"
    }
   ],
   "source": [
    "life_expectancy = df['wdi_lifexp']\n",
    "life_expectancy = life_expectancy.fillna(life_expectancy.mean())\n",
    "\n",
    "def pearson_corr(first_column, second_column):\n",
    "    second_column = second_column.fillna(second_column.mean())\n",
    "    return np.cov(first_column, second_column)[1,0] / (np.std(first_column)*np.std(second_column))\n",
    "\n",
    "data = [pearson_corr(life_expectancy, df[column]) for column in df.columns.values]\n",
    "df_correlations = pd.DataFrame([data], columns = list(df.columns.values))\n",
    "df_correlations.head()"
   ]
  },
  {
   "cell_type": "markdown",
   "metadata": {},
   "source": [
    "#### Attempting to predict life expectancy with population density and gdp per capita via Ordinary Least Squares"
   ]
  },
  {
   "cell_type": "code",
   "execution_count": 4,
   "metadata": {},
   "outputs": [
    {
     "data": {
      "text/html": [
       "<table class=\"simpletable\">\n",
       "<tr>\n",
       "        <td>Model:</td>               <td>OLS</td>         <td>Adj. R-squared:</td>     <td>0.235</td> \n",
       "</tr>\n",
       "<tr>\n",
       "  <td>Dependent Variable:</td>    <td>wdi_lifexp</td>           <td>AIC:</td>         <td>767.4884</td>\n",
       "</tr>\n",
       "<tr>\n",
       "         <td>Date:</td>        <td>2019-11-18 15:10</td>        <td>BIC:</td>         <td>775.7232</td>\n",
       "</tr>\n",
       "<tr>\n",
       "   <td>No. Observations:</td>         <td>115</td>         <td>Log-Likelihood:</td>    <td>-380.74</td>\n",
       "</tr>\n",
       "<tr>\n",
       "       <td>Df Model:</td>              <td>2</td>           <td>F-statistic:</td>       <td>18.54</td> \n",
       "</tr>\n",
       "<tr>\n",
       "     <td>Df Residuals:</td>           <td>112</td>       <td>Prob (F-statistic):</td> <td>1.11e-07</td>\n",
       "</tr>\n",
       "<tr>\n",
       "      <td>R-squared:</td>            <td>0.249</td>            <td>Scale:</td>         <td>45.159</td> \n",
       "</tr>\n",
       "</table>\n",
       "<table class=\"simpletable\">\n",
       "<tr>\n",
       "       <td></td>       <th>Coef.</th>  <th>Std.Err.</th>    <th>t</th>     <th>P>|t|</th> <th>[0.025</th>  <th>0.975]</th> \n",
       "</tr>\n",
       "<tr>\n",
       "  <th>const</th>      <td>66.5545</td>  <td>0.7710</td>  <td>86.3169</td> <td>0.0000</td> <td>65.0267</td> <td>68.0822</td>\n",
       "</tr>\n",
       "<tr>\n",
       "  <th>wdi_popden</th> <td>0.0003</td>   <td>0.0009</td>  <td>0.3367</td>  <td>0.7369</td> <td>-0.0015</td> <td>0.0021</td> \n",
       "</tr>\n",
       "<tr>\n",
       "  <th>gle_cgdpc</th>  <td>0.0003</td>   <td>0.0001</td>  <td>5.6280</td>  <td>0.0000</td> <td>0.0002</td>  <td>0.0004</td> \n",
       "</tr>\n",
       "</table>\n",
       "<table class=\"simpletable\">\n",
       "<tr>\n",
       "     <td>Omnibus:</td>    <td>12.156</td>  <td>Durbin-Watson:</td>    <td>2.271</td>\n",
       "</tr>\n",
       "<tr>\n",
       "  <td>Prob(Omnibus):</td>  <td>0.002</td> <td>Jarque-Bera (JB):</td> <td>13.839</td>\n",
       "</tr>\n",
       "<tr>\n",
       "       <td>Skew:</td>     <td>-0.843</td>     <td>Prob(JB):</td>      <td>0.001</td>\n",
       "</tr>\n",
       "<tr>\n",
       "     <td>Kurtosis:</td>    <td>2.788</td>  <td>Condition No.:</td>    <td>19801</td>\n",
       "</tr>\n",
       "</table>"
      ],
      "text/plain": [
       "<class 'statsmodels.iolib.summary2.Summary'>\n",
       "\"\"\"\n",
       "                 Results: Ordinary least squares\n",
       "=================================================================\n",
       "Model:              OLS              Adj. R-squared:     0.235   \n",
       "Dependent Variable: wdi_lifexp       AIC:                767.4884\n",
       "Date:               2019-11-18 15:10 BIC:                775.7232\n",
       "No. Observations:   115              Log-Likelihood:     -380.74 \n",
       "Df Model:           2                F-statistic:        18.54   \n",
       "Df Residuals:       112              Prob (F-statistic): 1.11e-07\n",
       "R-squared:          0.249            Scale:              45.159  \n",
       "------------------------------------------------------------------\n",
       "               Coef.   Std.Err.     t     P>|t|    [0.025   0.975]\n",
       "------------------------------------------------------------------\n",
       "const         66.5545    0.7710  86.3169  0.0000  65.0267  68.0822\n",
       "wdi_popden     0.0003    0.0009   0.3367  0.7369  -0.0015   0.0021\n",
       "gle_cgdpc      0.0003    0.0001   5.6280  0.0000   0.0002   0.0004\n",
       "-----------------------------------------------------------------\n",
       "Omnibus:              12.156       Durbin-Watson:          2.271 \n",
       "Prob(Omnibus):        0.002        Jarque-Bera (JB):       13.839\n",
       "Skew:                 -0.843       Prob(JB):               0.001 \n",
       "Kurtosis:             2.788        Condition No.:          19801 \n",
       "=================================================================\n",
       "* The condition number is large (2e+04). This might indicate\n",
       "strong multicollinearity or other numerical problems.\n",
       "\"\"\""
      ]
     },
     "execution_count": 4,
     "metadata": {},
     "output_type": "execute_result"
    }
   ],
   "source": [
    "X = df[['wdi_popden', 'gle_cgdpc']]\n",
    "X = sm.add_constant(X)\n",
    "Y = df['wdi_lifexp']\n",
    "\n",
    "model = sm.OLS(Y, X)\n",
    "results = model.fit()\n",
    "results.summary2()"
   ]
  },
  {
   "cell_type": "markdown",
   "metadata": {},
   "source": [
    "<i>Analysis of the results here..\n",
    "</i>"
   ]
  },
  {
   "cell_type": "markdown",
   "metadata": {},
   "source": [
    "#### Predicted vs real plot"
   ]
  },
  {
   "cell_type": "code",
   "execution_count": 7,
   "metadata": {},
   "outputs": [
    {
     "data": {
      "image/png": "[encoded data removed]",
      "text/plain": [
       "<Figure size 432x288 with 1 Axes>"
      ]
     },
     "metadata": {
      "needs_background": "light"
     },
     "output_type": "display_data"
    }
   ],
   "source": [
    "w0 = results.params.const\n",
    "w1 = results.params.gle_cgdpc #Are these weights or X?\n",
    "w2 = results.params.wdi_popden\n",
    "\n",
    "real = np.array(Y)\n",
    "predicted = np.array(results.predict(X))\n",
    "no_of_instances = len(Y)\n",
    "no_of_parameters = 3 # both X and Y vars\n",
    "_ = plt.scatter(real, predicted)\n",
    "_ = plt.title(f'Actual vs predicted results correlation {round(np.corrcoef(real, predicted)[1,0], 2)}')"
   ]
  },
  {
   "cell_type": "markdown",
   "metadata": {},
   "source": [
    "#### Evaluation of results\n",
    "<i>\n",
    "    \n",
    "- SSE: Sum of deviation of predicted results from its real values\n",
    "    \n",
    "- MSE: Mean of deviation of predicted results from its real values\n",
    "\n",
    "- R2: Total variability explained by the model -> how close is the data to fitted regression line. \n",
    "\n",
    "- MALLOW: Relative measure for model selection in regression (closely related to AIC)    \n",
    "</i>\n",
    "\n",
    "<i>Potential problems with OLS: \n",
    "There shall be no dependent variables in X, as this is necessary for using closed form solution (Full rank). \n",
    "</i>"
   ]
  },
  {
   "cell_type": "code",
   "execution_count": 8,
   "metadata": {},
   "outputs": [
    {
     "name": "stdout",
     "output_type": "stream",
     "text": [
      "SSE: 5057.83 | MSE: 43.98 | R2: 0.24873618418560783 | MALLOW: 6.0\n"
     ]
    }
   ],
   "source": [
    "sse = round(np.sum((real-predicted)**2), 2)\n",
    "mse = round(np.mean((real-predicted)**2), 2)\n",
    "r2 = 1 - np.sum((real - predicted)**2) / np.sum((real-np.mean(real))**2)\n",
    "mallow = round(sse/mse - no_of_instances + 2 * no_of_parameters, 2)\n",
    "\n",
    "print(f'SSE: {sse} | MSE: {mse} | R2: {r2} | MALLOW: {mallow}')"
   ]
  },
  {
   "cell_type": "markdown",
   "metadata": {},
   "source": [
    "#### Heteroscedascity check"
   ]
  },
  {
   "cell_type": "markdown",
   "metadata": {},
   "source": [
    "<i>\n",
    "Regression model can constantly be accurate for low/high values, but be inconsistent when predicting high/low values\n",
    "(Residual becomes more increasing for higher prediction values). \n",
    "</i>"
   ]
  },
  {
   "cell_type": "code",
   "execution_count": 9,
   "metadata": {},
   "outputs": [
    {
     "name": "stdout",
     "output_type": "stream",
     "text": [
      "No heteroscedascity issues here. Find variables that show such a behavior\n"
     ]
    },
    {
     "data": {
      "image/png": "[encoded data removed]",
      "text/plain": [
       "<Figure size 432x432 with 2 Axes>"
      ]
     },
     "metadata": {
      "needs_background": "light"
     },
     "output_type": "display_data"
    }
   ],
   "source": [
    "X = np.array(X)\n",
    "Y = np.array(Y)\n",
    "X1, X2 = X[:, 1], X[:, 2]\n",
    "\n",
    "residuals = Y - predicted\n",
    "\n",
    "fig, ax = plt.subplots(2,1, figsize=(6,6))\n",
    "plt.subplots_adjust(hspace = 0.3)\n",
    "ax[0].scatter(X1, residuals); ax[0].set_xlabel('Population density');\n",
    "ax[1].scatter(X2, residuals); ax[1].set_xlabel('GDP per capita');\n",
    "for i in range(0,2): ax[i].set_ylabel('Residuals')\n",
    "\n",
    "_ = ax[0].set_title(f'Correlation of residuals with {round(np.corrcoef(X1, residuals)[1,0], 2)},  {round(np.corrcoef(X2, residuals)[1,0], 2)}')\n",
    "print('No heteroscedascity issues here. Find variables that show such a behavior')"
   ]
  },
  {
   "cell_type": "markdown",
   "metadata": {},
   "source": [
    "#### Interaction and instrumental variables\n",
    "Interaction: A variable has a positive effect w.r.t the outcome, depending on the value of another variable. -> Find variables that show such a behavior\n",
    "Instrumental: A variable highly correlated with independent variables but not with outcome. "
   ]
  },
  {
   "cell_type": "markdown",
   "metadata": {},
   "source": [
    "#### Checking for outcomes with polynomial regression \n",
    "<i>Fitting a model is a linear task, while predicted values are non-linear in X (since degrees per variable can be >1 here) </i>"
   ]
  },
  {
   "cell_type": "markdown",
   "metadata": {},
   "source": [
    "#### Building different regression models to model life expectancy (Ridge and Lasso)"
   ]
  },
  {
   "cell_type": "code",
   "execution_count": 10,
   "metadata": {},
   "outputs": [],
   "source": [
    "def test_model(model, X, Y, degree=0):\n",
    "    \n",
    "    #9fold\n",
    "    X_training, Y_training, X_test, Y_test = [], [], [], []\n",
    "    kf = KFold(n_splits=10, random_state = None, shuffle=False)\n",
    "    for train_idx, test_idx in kf.split(X):\n",
    "        X_training, X_test = X[train_idx], X[test_idx]\n",
    "        Y_training, Y_test = Y[train_idx], Y[test_idx]\n",
    "    \n",
    "    #model prediction\n",
    "    model.fit(X_training, Y_training)\n",
    "    prediction = model.predict(X_test)\n",
    "    \n",
    "    #evaluation\n",
    "    model_name = str(type(model).__name__)\n",
    "    mse = mean_squared_error(Y_test, prediction)\n",
    "    r2 = r2_score(Y_test, prediction)\n",
    "    if (degree!=0): return [model_name, float(\"%.4f\"%mse), float(\"%.4f\"%r2), degree]\n",
    "    else: return [model_name, float(\"%.4f\"%mse), float(\"%.4f\"%r2)]"
   ]
  },
  {
   "cell_type": "markdown",
   "metadata": {},
   "source": [
    "<i>Overfitting can occur. How to tackle it? \n",
    "\n",
    "One of the solutions could be applying Lasso/Ridge Regression/Regularization: We penalize huge weights by including them additionally multiplied with parameter lambda. </i> \n",
    "\n",
    "ref: https://www.youtube.com/watch?v=sO4ZirJh9ds"
   ]
  },
  {
   "cell_type": "markdown",
   "metadata": {},
   "source": [
    "<img src=\"Images/regularization.png\" style=\"width: 500px;\"> "
   ]
  },
  {
   "cell_type": "code",
   "execution_count": 42,
   "metadata": {},
   "outputs": [
    {
     "data": {
      "text/latex": [
       "$\\displaystyle Lasso: \\sum(\\textbf{Y} - \\textbf{X}{\\beta} ) + \\lambda\\sum|\\beta_j| \\\\ Ridge: \\sum(\\textbf{Y} - \\textbf{X}{\\beta} ) + \\lambda\\sum{\\beta_j}^2$"
      ],
      "text/plain": [
       "<IPython.core.display.Math object>"
      ]
     },
     "metadata": {},
     "output_type": "display_data"
    }
   ],
   "source": [
    "display(Math(r'Lasso: \\sum(\\textbf{Y} - \\textbf{X}{\\beta} ) + \\lambda\\sum|\\beta_j| \\\\ Ridge: \\sum(\\textbf{Y} - \\textbf{X}{\\beta} ) + \\lambda\\sum{\\beta_j}^2'))"
   ]
  },
  {
   "cell_type": "code",
   "execution_count": 11,
   "metadata": {},
   "outputs": [
    {
     "data": {
      "text/html": [
       "<div>\n",
       "<style scoped>\n",
       "    .dataframe tbody tr th:only-of-type {\n",
       "        vertical-align: middle;\n",
       "    }\n",
       "\n",
       "    .dataframe tbody tr th {\n",
       "        vertical-align: top;\n",
       "    }\n",
       "\n",
       "    .dataframe thead th {\n",
       "        text-align: right;\n",
       "    }\n",
       "</style>\n",
       "<table border=\"1\" class=\"dataframe\">\n",
       "  <thead>\n",
       "    <tr style=\"text-align: right;\">\n",
       "      <th></th>\n",
       "      <th>Model name</th>\n",
       "      <th>Mean squared error</th>\n",
       "      <th>R2 score</th>\n",
       "      <th>Degree</th>\n",
       "    </tr>\n",
       "  </thead>\n",
       "  <tbody>\n",
       "    <tr>\n",
       "      <th>0</th>\n",
       "      <td>LinearRegression</td>\n",
       "      <td>0.1899</td>\n",
       "      <td>0.7107</td>\n",
       "      <td>14</td>\n",
       "    </tr>\n",
       "    <tr>\n",
       "      <th>1</th>\n",
       "      <td>Ridge</td>\n",
       "      <td>0.6494</td>\n",
       "      <td>0.0107</td>\n",
       "      <td>14</td>\n",
       "    </tr>\n",
       "    <tr>\n",
       "      <th>2</th>\n",
       "      <td>Lasso</td>\n",
       "      <td>0.1411</td>\n",
       "      <td>0.7850</td>\n",
       "      <td>14</td>\n",
       "    </tr>\n",
       "  </tbody>\n",
       "</table>\n",
       "</div>"
      ],
      "text/plain": [
       "         Model name  Mean squared error  R2 score  Degree\n",
       "0  LinearRegression              0.1899    0.7107      14\n",
       "1             Ridge              0.6494    0.0107      14\n",
       "2             Lasso              0.1411    0.7850      14"
      ]
     },
     "execution_count": 11,
     "metadata": {},
     "output_type": "execute_result"
    }
   ],
   "source": [
    "x_df = df.drop('wdi_lifexp', axis = 1)\n",
    "filling_values = {column_name: x_df[column_name].mean() for column_name in x_df.columns.values}\n",
    "x_df = x_df.fillna(value=filling_values)\n",
    "y_df = df['wdi_lifexp'].fillna(value=df['wdi_lifexp'].mean())\n",
    "\n",
    "X = preprocessing.scale(x_df.values)\n",
    "Y = preprocessing.scale(y_df.values)\n",
    "\n",
    "#List of models\n",
    "models = [linear_model.LinearRegression(), linear_model.Ridge(alpha=10000), linear_model.Lasso(alpha=0.1)]\n",
    "columns_names=['Model name', 'Mean squared error', 'R2 score', 'Degree']\n",
    "results = [test_model(model, X, Y, degree=len(filling_values)) for model in models]\n",
    "\n",
    "#Generating dataframe in form of results\n",
    "pd.DataFrame(results, columns=columns_names)"
   ]
  },
  {
   "cell_type": "code",
   "execution_count": 12,
   "metadata": {},
   "outputs": [
    {
     "name": "stdout",
     "output_type": "stream",
     "text": [
      "1 variable(s): ['al_language']\n",
      "MSE: 12.1699\n",
      "2 variable(s): ['al_language', 'vdem_gender']\n",
      "MSE: 9.4048\n",
      "3 variable(s): ['al_language', 'vdem_gender', 'al_ethnic']\n",
      "MSE: 7.5022\n",
      "4 variable(s): ['al_language', 'vdem_gender', 'al_ethnic', 'gle_cgdpc']\n",
      "MSE: 5.9186\n",
      "5 variable(s): ['al_language', 'vdem_gender', 'al_ethnic', 'gle_cgdpc', 'bti_foe']\n",
      "MSE: 5.4355\n",
      "6 variable(s): ['al_language', 'vdem_gender', 'al_ethnic', 'gle_cgdpc', 'bti_foe', 'bti_pdi']\n",
      "MSE: 4.5314\n",
      "7 variable(s): ['al_language', 'vdem_gender', 'al_ethnic', 'gle_cgdpc', 'bti_foe', 'bti_pdi', 'wdi_forest']\n",
      "MSE: 4.52\n",
      "8 variable(s): ['al_language', 'vdem_gender', 'al_ethnic', 'gle_cgdpc', 'bti_foe', 'bti_pdi', 'wdi_forest', 'wdi_popden']\n",
      "MSE: 4.575\n",
      "9 variable(s): ['al_language', 'vdem_gender', 'al_ethnic', 'gle_cgdpc', 'bti_foe', 'bti_pdi', 'wdi_forest', 'wdi_popden', 'wdi_araland']\n",
      "MSE: 4.6768\n",
      "10 variable(s): ['al_language', 'vdem_gender', 'al_ethnic', 'gle_cgdpc', 'bti_foe', 'bti_pdi', 'wdi_forest', 'wdi_popden', 'wdi_araland', 'bti_acp']\n",
      "MSE: 5.0055\n",
      "11 variable(s): ['al_language', 'vdem_gender', 'al_ethnic', 'gle_cgdpc', 'bti_foe', 'bti_pdi', 'wdi_forest', 'wdi_popden', 'wdi_araland', 'bti_acp', 'bti_ci']\n",
      "MSE: 5.3966\n",
      "12 variable(s): ['al_language', 'vdem_gender', 'al_ethnic', 'gle_cgdpc', 'bti_foe', 'bti_pdi', 'wdi_forest', 'wdi_popden', 'wdi_araland', 'bti_acp', 'bti_ci', 'al_religion']\n",
      "MSE: 6.166\n",
      "13 variable(s): ['al_language', 'vdem_gender', 'al_ethnic', 'gle_cgdpc', 'bti_foe', 'bti_pdi', 'wdi_forest', 'wdi_popden', 'wdi_araland', 'bti_acp', 'bti_ci', 'al_religion', 'bti_aar']\n",
      "MSE: 7.4282\n",
      "14 variable(s): ['al_language', 'vdem_gender', 'al_ethnic', 'gle_cgdpc', 'bti_foe', 'bti_pdi', 'wdi_forest', 'wdi_popden', 'wdi_araland', 'bti_acp', 'bti_ci', 'al_religion', 'bti_aar', 'fh_pair']\n",
      "MSE: 11.1181\n",
      ">>>Result of forward selection<<<\n",
      ">>>Number of variables of best model: 7\n",
      ">>>MSE of best model: 4.52\n",
      "13 variable(s): ['wdi_popden' 'gle_cgdpc' 'bti_acp' 'bti_pdi' 'al_ethnic' 'al_language'\n",
      " 'al_religion' 'bti_aar' 'vdem_gender' 'bti_ci' 'bti_foe' 'wdi_araland'\n",
      " 'wdi_forest']\n",
      "MSE: 7.4282\n",
      "12 variable(s): ['wdi_popden' 'gle_cgdpc' 'bti_acp' 'bti_pdi' 'al_ethnic' 'al_language'\n",
      " 'al_religion' 'vdem_gender' 'bti_ci' 'bti_foe' 'wdi_araland' 'wdi_forest']\n",
      "MSE: 6.166\n",
      "11 variable(s): ['wdi_popden' 'gle_cgdpc' 'bti_acp' 'bti_pdi' 'al_ethnic' 'al_language'\n",
      " 'vdem_gender' 'bti_ci' 'bti_foe' 'wdi_araland' 'wdi_forest']\n",
      "MSE: 5.3966\n",
      "10 variable(s): ['wdi_popden' 'gle_cgdpc' 'bti_acp' 'bti_pdi' 'al_ethnic' 'al_language'\n",
      " 'vdem_gender' 'bti_foe' 'wdi_araland' 'wdi_forest']\n",
      "MSE: 5.0055\n",
      "9 variable(s): ['wdi_popden' 'gle_cgdpc' 'bti_pdi' 'al_ethnic' 'al_language'\n",
      " 'vdem_gender' 'bti_foe' 'wdi_araland' 'wdi_forest']\n",
      "MSE: 4.6768\n",
      "8 variable(s): ['wdi_popden' 'gle_cgdpc' 'bti_pdi' 'al_ethnic' 'al_language'\n",
      " 'vdem_gender' 'bti_foe' 'wdi_forest']\n",
      "MSE: 4.575\n",
      "7 variable(s): ['gle_cgdpc' 'bti_pdi' 'al_ethnic' 'al_language' 'vdem_gender' 'bti_foe'\n",
      " 'wdi_forest']\n",
      "MSE: 4.52\n",
      "6 variable(s): ['gle_cgdpc' 'bti_pdi' 'al_ethnic' 'al_language' 'vdem_gender' 'bti_foe']\n",
      "MSE: 4.5314\n",
      "5 variable(s): ['gle_cgdpc' 'al_ethnic' 'al_language' 'vdem_gender' 'bti_foe']\n",
      "MSE: 5.4355\n",
      "4 variable(s): ['gle_cgdpc' 'al_ethnic' 'al_language' 'vdem_gender']\n",
      "MSE: 5.9186\n",
      "3 variable(s): ['al_ethnic' 'al_language' 'vdem_gender']\n",
      "MSE: 7.5022\n",
      "2 variable(s): ['al_language' 'vdem_gender']\n",
      "MSE: 9.4048\n",
      "1 variable(s): ['al_language']\n",
      "MSE: 12.1699\n",
      ">>>Result of backward selection\n",
      ">>>Number of variables of best model: 7\n",
      ">>>MSE of best model: 4.52\n"
     ]
    },
    {
     "data": {
      "text/plain": [
       "['LinearRegression', 4.52, 0.8824, 7]"
      ]
     },
     "execution_count": 12,
     "metadata": {},
     "output_type": "execute_result"
    }
   ],
   "source": [
    "Y = y_df.values\n",
    "X = x_df\n",
    "\n",
    "def forwardSelectionAlgorithm(Y,X):\n",
    "    models = []\n",
    "    columns = X.columns.values\n",
    "    #Start with no variables\n",
    "    variables_chosen = []\n",
    "    variables_not_chosen = columns\n",
    "    while len(variables_not_chosen) > 0:\n",
    "        # Test all models, where one variable is added and add the best one to the list of models\n",
    "        best_model = (0,sys.maxsize,0,0)\n",
    "        for variable in variables_not_chosen:\n",
    "            variables_candidates = list(variables_chosen)\n",
    "            variables_candidates.append(variable)\n",
    "            model_tested = test_model(linear_model.LinearRegression(), X[variables_candidates].values, Y, degree=len(variables_candidates))\n",
    "            if model_tested[1] < best_model[1]:\n",
    "                best_model = model_tested\n",
    "                best_variable = variable\n",
    "        # Add the best model with k variables to the list of models\n",
    "        variables_chosen.append(best_variable)\n",
    "        variables_not_chosen = variables_not_chosen[variables_not_chosen!=best_variable]\n",
    "        models.append(best_model)\n",
    "        print(str(len(variables_chosen)) + \" variable(s): \" + str(variables_chosen))\n",
    "        print(\"MSE: \" + str(best_model[1]))\n",
    "        \n",
    "    # Choose the best model\n",
    "    best_model_of_all = models[0]\n",
    "    for model in models:\n",
    "        if model[1] < best_model_of_all[1]:\n",
    "            best_model_of_all = model\n",
    "    print(\">>>Result of forward selection<<<\")\n",
    "    print(\">>>Number of variables of best model: \" + str(best_model_of_all[3]))\n",
    "    print(\">>>MSE of best model: \" + str(best_model_of_all[1]))\n",
    "    return best_model_of_all\n",
    "\n",
    "def backwardsSelectionAlgorithm(Y,X):\n",
    "    models = []\n",
    "    columns = X.columns.values\n",
    "    #Start with no variables\n",
    "    variables_chosen = columns\n",
    "    variables_not_chosen = []\n",
    "    while len(variables_chosen) > 1:\n",
    "        # Test all models, where one variable is removed and add the best one to the list of models\n",
    "        best_model = (0,sys.maxsize,0,0)\n",
    "        for variable in variables_chosen:\n",
    "            variables_candidates = list(variables_chosen)\n",
    "            variables_candidates.remove(variable)\n",
    "            model_tested = test_model(linear_model.LinearRegression(), X[variables_candidates].values, Y, degree=len(variables_candidates))\n",
    "            if model_tested[1] < best_model[1]:\n",
    "                best_model = model_tested\n",
    "                best_variable = variable\n",
    "        # Add the best model with k variables to the list of models\n",
    "        variables_chosen = variables_chosen[variables_chosen!=best_variable]\n",
    "        variables_not_chosen.append(best_variable)\n",
    "        models.append(best_model)\n",
    "        print(str(len(variables_chosen)) + \" variable(s): \" + str(variables_chosen))\n",
    "        print(\"MSE: \" + str(best_model[1]))\n",
    "        \n",
    "    # Choose the best model\n",
    "    best_model_of_all = models[0]\n",
    "    for model in models:\n",
    "        if model[1] < best_model_of_all[1]:\n",
    "            best_model_of_all = model\n",
    "    print(\">>>Result of backward selection\")\n",
    "    print(\">>>Number of variables of best model: \" + str(best_model_of_all[3]))\n",
    "    print(\">>>MSE of best model: \" + str(best_model_of_all[1]))\n",
    "    return best_model_of_all\n",
    "\n",
    "\n",
    "forwardSelectionAlgorithm(Y, X)\n",
    "backwardsSelectionAlgorithm(Y, X)"
   ]
  },
  {
   "cell_type": "markdown",
   "metadata": {},
   "source": [
    "# Causal inference"
   ]
  },
  {
   "cell_type": "code",
   "execution_count": null,
   "metadata": {},
   "outputs": [],
   "source": []
  }
 ],
 "metadata": {
  "kernelspec": {
   "display_name": "Python 3",
   "language": "python",
   "name": "python3"
  },
  "language_info": {
   "codemirror_mode": {
    "name": "ipython",
    "version": 3
   },
   "file_extension": ".py",
   "mimetype": "text/x-python",
   "name": "python",
   "nbconvert_exporter": "python",
   "pygments_lexer": "ipython3",
   "version": "3.7.1"
  }
 },
 "nbformat": 4,
 "nbformat_minor": 2
}
