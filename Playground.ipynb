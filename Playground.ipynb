{
 "cells": [
  {
   "cell_type": "code",
   "execution_count": 1,
   "metadata": {},
   "outputs": [],
   "source": [
    "import os\n",
    "import sys\n",
    "import pandas as pd\n",
    "import numpy as np\n",
    "import matplotlib.pyplot as plt\n",
    "import statsmodels.api as sm\n",
    "from sklearn import preprocessing, linear_model\n",
    "from sklearn.metrics import mean_squared_error, r2_score\n",
    "from sklearn.model_selection import KFold\n",
    "from scipy.spatial.distance import mahalanobis\n",
    "\n",
    "from IPython.display import display, Math, Latex"
   ]
  },
  {
   "cell_type": "markdown",
   "metadata": {},
   "source": [
    "# Regression Analysis"
   ]
  },
  {
   "cell_type": "markdown",
   "metadata": {},
   "source": [
    "#### Acquiring the dataset\n",
    "Reference: https://qog.pol.gu.se/data/datadownloads/qogstandarddata"
   ]
  },
  {
   "cell_type": "code",
   "execution_count": 2,
   "metadata": {},
   "outputs": [
    {
     "data": {
      "text/html": [
       "<div>\n",
       "<style scoped>\n",
       "    .dataframe tbody tr th:only-of-type {\n",
       "        vertical-align: middle;\n",
       "    }\n",
       "\n",
       "    .dataframe tbody tr th {\n",
       "        vertical-align: top;\n",
       "    }\n",
       "\n",
       "    .dataframe thead th {\n",
       "        text-align: right;\n",
       "    }\n",
       "</style>\n",
       "<table border=\"1\" class=\"dataframe\">\n",
       "  <thead>\n",
       "    <tr style=\"text-align: right;\">\n",
       "      <th></th>\n",
       "      <th>wdi_lifexp</th>\n",
       "      <th>wdi_popden</th>\n",
       "      <th>gle_cgdpc</th>\n",
       "      <th>bti_acp</th>\n",
       "      <th>bti_pdi</th>\n",
       "      <th>fh_pair</th>\n",
       "      <th>al_ethnic</th>\n",
       "      <th>al_language</th>\n",
       "      <th>al_religion</th>\n",
       "      <th>bti_aar</th>\n",
       "      <th>vdem_gender</th>\n",
       "      <th>bti_ci</th>\n",
       "      <th>bti_foe</th>\n",
       "      <th>wdi_araland</th>\n",
       "      <th>wdi_forest</th>\n",
       "    </tr>\n",
       "  </thead>\n",
       "  <tbody>\n",
       "    <tr>\n",
       "      <th>0</th>\n",
       "      <td>62.902683</td>\n",
       "      <td>50.176178</td>\n",
       "      <td>1282.6400</td>\n",
       "      <td>3.0</td>\n",
       "      <td>3.0</td>\n",
       "      <td>2</td>\n",
       "      <td>0.769345</td>\n",
       "      <td>0.614146</td>\n",
       "      <td>0.271684</td>\n",
       "      <td>4.0</td>\n",
       "      <td>0.530792</td>\n",
       "      <td>9.0</td>\n",
       "      <td>4.0</td>\n",
       "      <td>11.903011</td>\n",
       "      <td>2.067825</td>\n",
       "    </tr>\n",
       "    <tr>\n",
       "      <th>1</th>\n",
       "      <td>77.998390</td>\n",
       "      <td>105.441750</td>\n",
       "      <td>8516.7002</td>\n",
       "      <td>5.0</td>\n",
       "      <td>6.0</td>\n",
       "      <td>9</td>\n",
       "      <td>0.220426</td>\n",
       "      <td>0.039925</td>\n",
       "      <td>0.471852</td>\n",
       "      <td>8.0</td>\n",
       "      <td>0.828077</td>\n",
       "      <td>3.0</td>\n",
       "      <td>7.0</td>\n",
       "      <td>22.467154</td>\n",
       "      <td>28.191971</td>\n",
       "    </tr>\n",
       "    <tr>\n",
       "      <th>2</th>\n",
       "      <td>75.635025</td>\n",
       "      <td>16.422152</td>\n",
       "      <td>5402.1699</td>\n",
       "      <td>5.0</td>\n",
       "      <td>3.0</td>\n",
       "      <td>7</td>\n",
       "      <td>0.339400</td>\n",
       "      <td>0.442662</td>\n",
       "      <td>0.009128</td>\n",
       "      <td>5.0</td>\n",
       "      <td>0.770516</td>\n",
       "      <td>7.0</td>\n",
       "      <td>6.0</td>\n",
       "      <td>3.136109</td>\n",
       "      <td>0.818057</td>\n",
       "    </tr>\n",
       "    <tr>\n",
       "      <th>4</th>\n",
       "      <td>60.806732</td>\n",
       "      <td>21.593380</td>\n",
       "      <td>3771.2000</td>\n",
       "      <td>2.0</td>\n",
       "      <td>3.0</td>\n",
       "      <td>3</td>\n",
       "      <td>0.786720</td>\n",
       "      <td>0.787019</td>\n",
       "      <td>0.627644</td>\n",
       "      <td>3.0</td>\n",
       "      <td>0.680371</td>\n",
       "      <td>4.0</td>\n",
       "      <td>4.0</td>\n",
       "      <td>3.930376</td>\n",
       "      <td>46.507420</td>\n",
       "    </tr>\n",
       "    <tr>\n",
       "      <th>6</th>\n",
       "      <td>71.724754</td>\n",
       "      <td>115.348816</td>\n",
       "      <td>9793.3096</td>\n",
       "      <td>2.0</td>\n",
       "      <td>2.0</td>\n",
       "      <td>6</td>\n",
       "      <td>0.204672</td>\n",
       "      <td>0.205392</td>\n",
       "      <td>0.489895</td>\n",
       "      <td>3.0</td>\n",
       "      <td>0.576483</td>\n",
       "      <td>4.0</td>\n",
       "      <td>3.0</td>\n",
       "      <td>23.305470</td>\n",
       "      <td>13.466484</td>\n",
       "    </tr>\n",
       "  </tbody>\n",
       "</table>\n",
       "</div>"
      ],
      "text/plain": [
       "   wdi_lifexp  wdi_popden  gle_cgdpc  bti_acp  bti_pdi  fh_pair  al_ethnic  \\\n",
       "0   62.902683   50.176178  1282.6400      3.0      3.0        2   0.769345   \n",
       "1   77.998390  105.441750  8516.7002      5.0      6.0        9   0.220426   \n",
       "2   75.635025   16.422152  5402.1699      5.0      3.0        7   0.339400   \n",
       "4   60.806732   21.593380  3771.2000      2.0      3.0        3   0.786720   \n",
       "6   71.724754  115.348816  9793.3096      2.0      2.0        6   0.204672   \n",
       "\n",
       "   al_language  al_religion  bti_aar  vdem_gender  bti_ci  bti_foe  \\\n",
       "0     0.614146     0.271684      4.0     0.530792     9.0      4.0   \n",
       "1     0.039925     0.471852      8.0     0.828077     3.0      7.0   \n",
       "2     0.442662     0.009128      5.0     0.770516     7.0      6.0   \n",
       "4     0.787019     0.627644      3.0     0.680371     4.0      4.0   \n",
       "6     0.205392     0.489895      3.0     0.576483     4.0      3.0   \n",
       "\n",
       "   wdi_araland  wdi_forest  \n",
       "0    11.903011    2.067825  \n",
       "1    22.467154   28.191971  \n",
       "2     3.136109    0.818057  \n",
       "4     3.930376   46.507420  \n",
       "6    23.305470   13.466484  "
      ]
     },
     "execution_count": 2,
     "metadata": {},
     "output_type": "execute_result"
    }
   ],
   "source": [
    "df_original = pd.read_csv(\"Datasets/qog_bas_cs_jan18.csv\")\n",
    "df = df_original[[\"cname\",\"wdi_lifexp\",\"wdi_popden\",\"gle_cgdpc\",\"bti_acp\", \"bti_pdi\", \"fh_pair\", \"al_ethnic\",\"al_language\",\"al_religion\",\"bti_aar\",\"vdem_gender\",\"bti_ci\",\"bti_foe\",\"wdi_araland\", \"wdi_forest\"]]\n",
    "df = df.dropna()\n",
    "\n",
    "for y in df.columns:\n",
    "    if(df[y].dtype == np.object):\n",
    "        df = df.drop([y], 1)\n",
    "        \n",
    "df.head()"
   ]
  },
  {
   "cell_type": "markdown",
   "metadata": {},
   "source": [
    "#### Computing Pearson 's correlation coefficient between life expectancy and other values"
   ]
  },
  {
   "cell_type": "code",
   "execution_count": 3,
   "metadata": {},
   "outputs": [
    {
     "data": {
      "text/html": [
       "<div>\n",
       "<style scoped>\n",
       "    .dataframe tbody tr th:only-of-type {\n",
       "        vertical-align: middle;\n",
       "    }\n",
       "\n",
       "    .dataframe tbody tr th {\n",
       "        vertical-align: top;\n",
       "    }\n",
       "\n",
       "    .dataframe thead th {\n",
       "        text-align: right;\n",
       "    }\n",
       "</style>\n",
       "<table border=\"1\" class=\"dataframe\">\n",
       "  <thead>\n",
       "    <tr style=\"text-align: right;\">\n",
       "      <th></th>\n",
       "      <th>wdi_lifexp</th>\n",
       "      <th>wdi_popden</th>\n",
       "      <th>gle_cgdpc</th>\n",
       "      <th>bti_acp</th>\n",
       "      <th>bti_pdi</th>\n",
       "      <th>fh_pair</th>\n",
       "      <th>al_ethnic</th>\n",
       "      <th>al_language</th>\n",
       "      <th>al_religion</th>\n",
       "      <th>bti_aar</th>\n",
       "      <th>vdem_gender</th>\n",
       "      <th>bti_ci</th>\n",
       "      <th>bti_foe</th>\n",
       "      <th>wdi_araland</th>\n",
       "      <th>wdi_forest</th>\n",
       "    </tr>\n",
       "  </thead>\n",
       "  <tbody>\n",
       "    <tr>\n",
       "      <th>0</th>\n",
       "      <td>1.008772</td>\n",
       "      <td>0.19213</td>\n",
       "      <td>0.50234</td>\n",
       "      <td>0.423312</td>\n",
       "      <td>0.199336</td>\n",
       "      <td>0.514225</td>\n",
       "      <td>-0.606459</td>\n",
       "      <td>-0.622697</td>\n",
       "      <td>-0.316992</td>\n",
       "      <td>0.15152</td>\n",
       "      <td>0.202752</td>\n",
       "      <td>-0.427087</td>\n",
       "      <td>0.154698</td>\n",
       "      <td>0.024731</td>\n",
       "      <td>0.088662</td>\n",
       "    </tr>\n",
       "  </tbody>\n",
       "</table>\n",
       "</div>"
      ],
      "text/plain": [
       "   wdi_lifexp  wdi_popden  gle_cgdpc   bti_acp   bti_pdi   fh_pair  al_ethnic  \\\n",
       "0    1.008772     0.19213    0.50234  0.423312  0.199336  0.514225  -0.606459   \n",
       "\n",
       "   al_language  al_religion  bti_aar  vdem_gender    bti_ci   bti_foe  \\\n",
       "0    -0.622697    -0.316992  0.15152     0.202752 -0.427087  0.154698   \n",
       "\n",
       "   wdi_araland  wdi_forest  \n",
       "0     0.024731    0.088662  "
      ]
     },
     "execution_count": 3,
     "metadata": {},
     "output_type": "execute_result"
    }
   ],
   "source": [
    "life_expectancy = df['wdi_lifexp']\n",
    "life_expectancy = life_expectancy.fillna(life_expectancy.mean())\n",
    "\n",
    "def pearson_corr(first_column, second_column):\n",
    "    second_column = second_column.fillna(second_column.mean())\n",
    "    return np.cov(first_column, second_column)[1,0] / (np.std(first_column)*np.std(second_column))\n",
    "\n",
    "data = [pearson_corr(life_expectancy, df[column]) for column in df.columns.values]\n",
    "df_correlations = pd.DataFrame([data], columns = list(df.columns.values))\n",
    "df_correlations.head()"
   ]
  },
  {
   "cell_type": "markdown",
   "metadata": {},
   "source": [
    "#### High correlations are to be seen in gender and gdp per capita - Attempting to predict life expectancy with these two variables via Ordinary Least Squares"
   ]
  },
  {
   "cell_type": "code",
   "execution_count": 8,
   "metadata": {},
   "outputs": [
    {
     "data": {
      "text/html": [
       "<table class=\"simpletable\">\n",
       "<tr>\n",
       "        <td>Model:</td>               <td>OLS</td>         <td>Adj. R-squared:</td>     <td>0.285</td> \n",
       "</tr>\n",
       "<tr>\n",
       "  <td>Dependent Variable:</td>    <td>wdi_lifexp</td>           <td>AIC:</td>         <td>759.7281</td>\n",
       "</tr>\n",
       "<tr>\n",
       "         <td>Date:</td>        <td>2020-08-23 10:35</td>        <td>BIC:</td>         <td>767.9629</td>\n",
       "</tr>\n",
       "<tr>\n",
       "   <td>No. Observations:</td>         <td>115</td>         <td>Log-Likelihood:</td>    <td>-376.86</td>\n",
       "</tr>\n",
       "<tr>\n",
       "       <td>Df Model:</td>              <td>2</td>           <td>F-statistic:</td>       <td>23.74</td> \n",
       "</tr>\n",
       "<tr>\n",
       "     <td>Df Residuals:</td>           <td>112</td>       <td>Prob (F-statistic):</td> <td>2.53e-09</td>\n",
       "</tr>\n",
       "<tr>\n",
       "      <td>R-squared:</td>            <td>0.298</td>            <td>Scale:</td>         <td>42.212</td> \n",
       "</tr>\n",
       "</table>\n",
       "<table class=\"simpletable\">\n",
       "<tr>\n",
       "       <td></td>        <th>Coef.</th>  <th>Std.Err.</th>    <th>t</th>     <th>P>|t|</th> <th>[0.025</th>  <th>0.975]</th> \n",
       "</tr>\n",
       "<tr>\n",
       "  <th>const</th>       <td>59.0930</td>  <td>2.7511</td>  <td>21.4798</td> <td>0.0000</td> <td>53.6421</td> <td>64.5440</td>\n",
       "</tr>\n",
       "<tr>\n",
       "  <th>vdem_gender</th> <td>10.4318</td>  <td>3.7021</td>  <td>2.8178</td>  <td>0.0057</td> <td>3.0965</td>  <td>17.7670</td>\n",
       "</tr>\n",
       "<tr>\n",
       "  <th>gle_cgdpc</th>   <td>0.0003</td>   <td>0.0000</td>  <td>6.4068</td>  <td>0.0000</td> <td>0.0002</td>  <td>0.0004</td> \n",
       "</tr>\n",
       "</table>\n",
       "<table class=\"simpletable\">\n",
       "<tr>\n",
       "     <td>Omnibus:</td>    <td>12.284</td>  <td>Durbin-Watson:</td>    <td>2.244</td>\n",
       "</tr>\n",
       "<tr>\n",
       "  <td>Prob(Omnibus):</td>  <td>0.002</td> <td>Jarque-Bera (JB):</td> <td>14.017</td>\n",
       "</tr>\n",
       "<tr>\n",
       "       <td>Skew:</td>     <td>-0.848</td>     <td>Prob(JB):</td>      <td>0.001</td>\n",
       "</tr>\n",
       "<tr>\n",
       "     <td>Kurtosis:</td>    <td>2.779</td>  <td>Condition No.:</td>   <td>121441</td>\n",
       "</tr>\n",
       "</table>"
      ],
      "text/plain": [
       "<class 'statsmodels.iolib.summary2.Summary'>\n",
       "\"\"\"\n",
       "                 Results: Ordinary least squares\n",
       "=================================================================\n",
       "Model:              OLS              Adj. R-squared:     0.285   \n",
       "Dependent Variable: wdi_lifexp       AIC:                759.7281\n",
       "Date:               2020-08-23 10:35 BIC:                767.9629\n",
       "No. Observations:   115              Log-Likelihood:     -376.86 \n",
       "Df Model:           2                F-statistic:        23.74   \n",
       "Df Residuals:       112              Prob (F-statistic): 2.53e-09\n",
       "R-squared:          0.298            Scale:              42.212  \n",
       "------------------------------------------------------------------\n",
       "               Coef.   Std.Err.     t     P>|t|    [0.025   0.975]\n",
       "------------------------------------------------------------------\n",
       "const         59.0930    2.7511  21.4798  0.0000  53.6421  64.5440\n",
       "vdem_gender   10.4318    3.7021   2.8178  0.0057   3.0965  17.7670\n",
       "gle_cgdpc      0.0003    0.0000   6.4068  0.0000   0.0002   0.0004\n",
       "-----------------------------------------------------------------\n",
       "Omnibus:              12.284       Durbin-Watson:          2.244 \n",
       "Prob(Omnibus):        0.002        Jarque-Bera (JB):       14.017\n",
       "Skew:                 -0.848       Prob(JB):               0.001 \n",
       "Kurtosis:             2.779        Condition No.:          121441\n",
       "=================================================================\n",
       "* The condition number is large (1e+05). This might indicate\n",
       "strong multicollinearity or other numerical problems.\n",
       "\"\"\""
      ]
     },
     "execution_count": 8,
     "metadata": {},
     "output_type": "execute_result"
    }
   ],
   "source": [
    "X = df[['vdem_gender', 'gle_cgdpc']]\n",
    "X = sm.add_constant(X)\n",
    "Y = df['wdi_lifexp']\n",
    "\n",
    "model = sm.OLS(Y, X)\n",
    "results = model.fit()\n",
    "results.summary2()"
   ]
  },
  {
   "cell_type": "markdown",
   "metadata": {},
   "source": [
    "P values seem low for these two variables, meaning that linear relationship is indeed present. "
   ]
  },
  {
   "cell_type": "markdown",
   "metadata": {},
   "source": [
    "#### Predicted vs real plot"
   ]
  },
  {
   "cell_type": "code",
   "execution_count": 9,
   "metadata": {},
   "outputs": [
    {
     "data": {
      "image/png": "[encoded data removed]",
      "text/plain": [
       "<Figure size 432x288 with 1 Axes>"
      ]
     },
     "metadata": {
      "needs_background": "light"
     },
     "output_type": "display_data"
    }
   ],
   "source": [
    "w0 = results.params.const\n",
    "w1 = results.params.gle_cgdpc #Are these weights or X?\n",
    "w2 = results.params.vdem_gender\n",
    "\n",
    "real = np.array(Y)\n",
    "predicted = np.array(results.predict(X))\n",
    "no_of_instances = len(Y)\n",
    "no_of_parameters = 3 # both X and Y vars \n",
    "_ = plt.scatter(real, predicted)\n",
    "_ = plt.title(f'Actual vs predicted results')"
   ]
  },
  {
   "cell_type": "markdown",
   "metadata": {},
   "source": [
    "#### Evaluation of results\n",
    "<i>\n",
    "    \n",
    "- SSE: Sum of deviation of predicted results from its real values\n",
    "    \n",
    "- MSE: Mean of deviation of predicted results from its real values\n",
    "\n",
    "- R2: Total variability explained by the model -> how close is the data to fitted regression line. \n",
    "\n",
    "- MALLOW: Relative measure for model selection in regression (closely related to AIC)    \n",
    "</i>\n",
    "\n",
    "<i>Potential problems with OLS: \n",
    "There shall be no dependent variables in X, as this is necessary for using closed form solution (Full rank). \n",
    "</i>"
   ]
  },
  {
   "cell_type": "code",
   "execution_count": 10,
   "metadata": {},
   "outputs": [
    {
     "name": "stdout",
     "output_type": "stream",
     "text": [
      "SSE: 4727.79 | MSE: 41.11 | R2: 0.29775942662329014 | MALLOW: 6.0\n"
     ]
    }
   ],
   "source": [
    "sse = round(np.sum((real-predicted)**2), 2)\n",
    "mse = round(np.mean((real-predicted)**2), 2)\n",
    "r2 = 1 - np.sum((real - predicted)**2) / np.sum((real-np.mean(real))**2)\n",
    "mallow = round(sse/mse - no_of_instances + 2 * no_of_parameters, 2)\n",
    "\n",
    "print(f'SSE: {sse} | MSE: {mse} | R2: {r2} | MALLOW: {mallow}')"
   ]
  },
  {
   "cell_type": "markdown",
   "metadata": {},
   "source": [
    "#### Heteroscedascity check"
   ]
  },
  {
   "cell_type": "markdown",
   "metadata": {},
   "source": [
    "<i>\n",
    "Regression model can constantly be accurate for low/high values, but be inconsistent when predicting high/low values\n",
    "(Residual becomes more increasing for higher prediction values). \n",
    "</i>"
   ]
  },
  {
   "cell_type": "code",
   "execution_count": 15,
   "metadata": {},
   "outputs": [
    {
     "data": {
      "image/png": "[encoded data removed]",
      "text/plain": [
       "<Figure size 432x432 with 2 Axes>"
      ]
     },
     "metadata": {
      "needs_background": "light"
     },
     "output_type": "display_data"
    }
   ],
   "source": [
    "X = np.array(X)\n",
    "Y = np.array(Y)\n",
    "X1, X2 = X[:, 1], X[:, 2]\n",
    "\n",
    "residuals = Y - predicted\n",
    "\n",
    "fig, ax = plt.subplots(2,1, figsize=(6,6))\n",
    "plt.subplots_adjust(hspace = 0.3)\n",
    "ax[0].scatter(X1, residuals); ax[0].set_xlabel('Gender');\n",
    "ax[1].scatter(X2, residuals); ax[1].set_xlabel('GDP per capita');\n",
    "for i in range(0,2): \n",
    "    ax[i].set_ylabel('Residuals')"
   ]
  },
  {
   "cell_type": "markdown",
   "metadata": {},
   "source": [
    "One can notice slightly higher residual for higher value of gender variable. Thus weighted regression might be a better choice. "
   ]
  },
  {
   "cell_type": "markdown",
   "metadata": {},
   "source": [
    "#### Building different regression models to model life expectancy (Ridge and Lasso)"
   ]
  },
  {
   "cell_type": "code",
   "execution_count": 25,
   "metadata": {},
   "outputs": [],
   "source": [
    "def test_model(model, X, Y, degree=0):\n",
    "    \n",
    "    mse_list = []\n",
    "    r2_list = []\n",
    "    \n",
    "    #9fold\n",
    "    X_training, Y_training, X_test, Y_test = [], [], [], []\n",
    "    kf = KFold(n_splits=10, random_state = None, shuffle=False)\n",
    "    for train_idx, test_idx in kf.split(X):\n",
    "        X_training, X_test = X[train_idx], X[test_idx]\n",
    "        Y_training, Y_test = Y[train_idx], Y[test_idx]\n",
    "        model.fit(X_training, Y_training)\n",
    "        prediction = model.predict(X_test)\n",
    "        mse_list.append(mean_squared_error(Y_test, prediction))\n",
    "        r2_list.append(r2_score(Y_test, prediction))\n",
    "    \n",
    "    mse = np.mean(mse_list)\n",
    "    r2 = np.mean(r2_list)\n",
    "    model_name = str(type(model).__name__)\n",
    "    if (degree!=0): return [model_name, float(\"%.4f\"%mse), float(\"%.4f\"%r2), degree]\n",
    "    else: return [model_name, float(\"%.4f\"%mse), float(\"%.4f\"%r2)]"
   ]
  },
  {
   "cell_type": "markdown",
   "metadata": {},
   "source": [
    "<i>Overfitting can occur. How to tackle it? \n",
    "\n",
    "One of the solutions could be applying Lasso/Ridge Regression/Regularization: We penalize huge weights by including them additionally multiplied with parameter lambda. </i> \n",
    "\n",
    "ref: https://www.youtube.com/watch?v=sO4ZirJh9ds"
   ]
  },
  {
   "cell_type": "markdown",
   "metadata": {},
   "source": [
    "<img src=\"Images/regularization.png\" style=\"width: 500px;\"> "
   ]
  },
  {
   "cell_type": "code",
   "execution_count": 26,
   "metadata": {},
   "outputs": [
    {
     "data": {
      "text/latex": [
       "$\\displaystyle Lasso: \\sum(\\textbf{Y} - \\textbf{X}{\\beta} ) + \\lambda\\sum|\\beta_j| \\\\ Ridge: \\sum(\\textbf{Y} - \\textbf{X}{\\beta} ) + \\lambda\\sum{\\beta_j}^2$"
      ],
      "text/plain": [
       "<IPython.core.display.Math object>"
      ]
     },
     "metadata": {},
     "output_type": "display_data"
    }
   ],
   "source": [
    "display(Math(r'Lasso: \\sum(\\textbf{Y} - \\textbf{X}{\\beta} ) + \\lambda\\sum|\\beta_j| \\\\ Ridge: \\sum(\\textbf{Y} - \\textbf{X}{\\beta} ) + \\lambda\\sum{\\beta_j}^2'))"
   ]
  },
  {
   "cell_type": "code",
   "execution_count": 27,
   "metadata": {},
   "outputs": [
    {
     "data": {
      "text/html": [
       "<div>\n",
       "<style scoped>\n",
       "    .dataframe tbody tr th:only-of-type {\n",
       "        vertical-align: middle;\n",
       "    }\n",
       "\n",
       "    .dataframe tbody tr th {\n",
       "        vertical-align: top;\n",
       "    }\n",
       "\n",
       "    .dataframe thead th {\n",
       "        text-align: right;\n",
       "    }\n",
       "</style>\n",
       "<table border=\"1\" class=\"dataframe\">\n",
       "  <thead>\n",
       "    <tr style=\"text-align: right;\">\n",
       "      <th></th>\n",
       "      <th>Model name</th>\n",
       "      <th>Mean squared error</th>\n",
       "      <th>R2 score</th>\n",
       "      <th>Degree</th>\n",
       "    </tr>\n",
       "  </thead>\n",
       "  <tbody>\n",
       "    <tr>\n",
       "      <th>0</th>\n",
       "      <td>LinearRegression</td>\n",
       "      <td>0.5333</td>\n",
       "      <td>0.4359</td>\n",
       "      <td>14</td>\n",
       "    </tr>\n",
       "    <tr>\n",
       "      <th>1</th>\n",
       "      <td>Ridge</td>\n",
       "      <td>0.9754</td>\n",
       "      <td>-0.0166</td>\n",
       "      <td>14</td>\n",
       "    </tr>\n",
       "    <tr>\n",
       "      <th>2</th>\n",
       "      <td>Lasso</td>\n",
       "      <td>0.3964</td>\n",
       "      <td>0.5813</td>\n",
       "      <td>14</td>\n",
       "    </tr>\n",
       "  </tbody>\n",
       "</table>\n",
       "</div>"
      ],
      "text/plain": [
       "         Model name  Mean squared error  R2 score  Degree\n",
       "0  LinearRegression              0.5333    0.4359      14\n",
       "1             Ridge              0.9754   -0.0166      14\n",
       "2             Lasso              0.3964    0.5813      14"
      ]
     },
     "execution_count": 27,
     "metadata": {},
     "output_type": "execute_result"
    }
   ],
   "source": [
    "x_df = df.drop('wdi_lifexp', axis = 1)\n",
    "filling_values = {column_name: x_df[column_name].mean() for column_name in x_df.columns.values}\n",
    "x_df = x_df.fillna(value=filling_values)\n",
    "y_df = df['wdi_lifexp'].fillna(value=df['wdi_lifexp'].mean())\n",
    "\n",
    "X = preprocessing.scale(x_df.values)\n",
    "Y = preprocessing.scale(y_df.values)\n",
    "\n",
    "#List of models\n",
    "models = [linear_model.LinearRegression(), linear_model.Ridge(alpha=10000), linear_model.Lasso(alpha=0.1)]\n",
    "columns_names=['Model name', 'Mean squared error', 'R2 score', 'Degree']\n",
    "results = [test_model(model, X, Y, degree=len(filling_values)) for model in models]\n",
    "\n",
    "#Generating dataframe in form of results\n",
    "pd.DataFrame(results, columns=columns_names)"
   ]
  },
  {
   "cell_type": "code",
   "execution_count": 28,
   "metadata": {},
   "outputs": [
    {
     "name": "stdout",
     "output_type": "stream",
     "text": [
      "1 variable(s): ['al_language']\n",
      "MSE: 37.3329\n",
      "2 variable(s): ['al_language', 'fh_pair']\n",
      "MSE: 30.232\n",
      "3 variable(s): ['al_language', 'fh_pair', 'gle_cgdpc']\n",
      "MSE: 25.1205\n",
      "4 variable(s): ['al_language', 'fh_pair', 'gle_cgdpc', 'bti_foe']\n",
      "MSE: 22.8048\n",
      "5 variable(s): ['al_language', 'fh_pair', 'gle_cgdpc', 'bti_foe', 'al_ethnic']\n",
      "MSE: 21.9125\n",
      "6 variable(s): ['al_language', 'fh_pair', 'gle_cgdpc', 'bti_foe', 'al_ethnic', 'al_religion']\n",
      "MSE: 21.4828\n",
      "7 variable(s): ['al_language', 'fh_pair', 'gle_cgdpc', 'bti_foe', 'al_ethnic', 'al_religion', 'wdi_forest']\n",
      "MSE: 21.4924\n",
      "8 variable(s): ['al_language', 'fh_pair', 'gle_cgdpc', 'bti_foe', 'al_ethnic', 'al_religion', 'wdi_forest', 'bti_aar']\n",
      "MSE: 21.5516\n",
      "9 variable(s): ['al_language', 'fh_pair', 'gle_cgdpc', 'bti_foe', 'al_ethnic', 'al_religion', 'wdi_forest', 'bti_aar', 'bti_acp']\n",
      "MSE: 21.7628\n",
      "10 variable(s): ['al_language', 'fh_pair', 'gle_cgdpc', 'bti_foe', 'al_ethnic', 'al_religion', 'wdi_forest', 'bti_aar', 'bti_acp', 'bti_ci']\n",
      "MSE: 21.9947\n",
      "11 variable(s): ['al_language', 'fh_pair', 'gle_cgdpc', 'bti_foe', 'al_ethnic', 'al_religion', 'wdi_forest', 'bti_aar', 'bti_acp', 'bti_ci', 'vdem_gender']\n",
      "MSE: 22.3072\n",
      "12 variable(s): ['al_language', 'fh_pair', 'gle_cgdpc', 'bti_foe', 'al_ethnic', 'al_religion', 'wdi_forest', 'bti_aar', 'bti_acp', 'bti_ci', 'vdem_gender', 'bti_pdi']\n",
      "MSE: 22.8113\n",
      "13 variable(s): ['al_language', 'fh_pair', 'gle_cgdpc', 'bti_foe', 'al_ethnic', 'al_religion', 'wdi_forest', 'bti_aar', 'bti_acp', 'bti_ci', 'vdem_gender', 'bti_pdi', 'wdi_araland']\n",
      "MSE: 23.3721\n",
      "14 variable(s): ['al_language', 'fh_pair', 'gle_cgdpc', 'bti_foe', 'al_ethnic', 'al_religion', 'wdi_forest', 'bti_aar', 'bti_acp', 'bti_ci', 'vdem_gender', 'bti_pdi', 'wdi_araland', 'wdi_popden']\n",
      "MSE: 31.2198\n",
      ">>>Result of forward selection<<<\n",
      ">>>Number of variables of best model: 6\n",
      ">>>MSE of best model: 21.4828\n",
      "13 variable(s): ['gle_cgdpc' 'bti_acp' 'bti_pdi' 'fh_pair' 'al_ethnic' 'al_language'\n",
      " 'al_religion' 'bti_aar' 'vdem_gender' 'bti_ci' 'bti_foe' 'wdi_araland'\n",
      " 'wdi_forest']\n",
      "MSE: 23.3721\n",
      "12 variable(s): ['gle_cgdpc' 'bti_acp' 'bti_pdi' 'fh_pair' 'al_ethnic' 'al_language'\n",
      " 'al_religion' 'bti_aar' 'vdem_gender' 'bti_ci' 'bti_foe' 'wdi_forest']\n",
      "MSE: 22.8113\n",
      "11 variable(s): ['gle_cgdpc' 'bti_acp' 'fh_pair' 'al_ethnic' 'al_language' 'al_religion'\n",
      " 'bti_aar' 'vdem_gender' 'bti_ci' 'bti_foe' 'wdi_forest']\n",
      "MSE: 22.3072\n",
      "10 variable(s): ['gle_cgdpc' 'bti_acp' 'fh_pair' 'al_ethnic' 'al_language' 'al_religion'\n",
      " 'bti_aar' 'bti_ci' 'bti_foe' 'wdi_forest']\n",
      "MSE: 21.9947\n",
      "9 variable(s): ['gle_cgdpc' 'bti_acp' 'fh_pair' 'al_ethnic' 'al_language' 'al_religion'\n",
      " 'bti_aar' 'bti_ci' 'wdi_forest']\n",
      "MSE: 21.7002\n",
      "8 variable(s): ['gle_cgdpc' 'bti_acp' 'fh_pair' 'al_ethnic' 'al_language' 'al_religion'\n",
      " 'bti_aar' 'wdi_forest']\n",
      "MSE: 21.4717\n",
      "7 variable(s): ['gle_cgdpc' 'fh_pair' 'al_ethnic' 'al_language' 'al_religion' 'bti_aar'\n",
      " 'wdi_forest']\n",
      "MSE: 21.3358\n",
      "6 variable(s): ['gle_cgdpc' 'fh_pair' 'al_ethnic' 'al_language' 'al_religion' 'bti_aar']\n",
      "MSE: 21.3472\n",
      "5 variable(s): ['gle_cgdpc' 'fh_pair' 'al_ethnic' 'al_language' 'bti_aar']\n",
      "MSE: 21.7528\n",
      "4 variable(s): ['gle_cgdpc' 'fh_pair' 'al_language' 'bti_aar']\n",
      "MSE: 22.8517\n",
      "3 variable(s): ['gle_cgdpc' 'fh_pair' 'al_language']\n",
      "MSE: 25.1205\n",
      "2 variable(s): ['fh_pair' 'al_language']\n",
      "MSE: 30.232\n",
      "1 variable(s): ['al_language']\n",
      "MSE: 37.3329\n",
      ">>>Result of backward selection\n",
      ">>>Number of variables of best model: 7\n",
      ">>>MSE of best model: 21.3358\n"
     ]
    },
    {
     "data": {
      "text/plain": [
       "['LinearRegression', 21.3358, 0.6027, 7]"
      ]
     },
     "execution_count": 28,
     "metadata": {},
     "output_type": "execute_result"
    }
   ],
   "source": [
    "Y = y_df.values\n",
    "X = x_df\n",
    "\n",
    "def forward_selection(Y,X):\n",
    "    models = []\n",
    "    columns = X.columns.values\n",
    "    #Start with no variables\n",
    "    variables_chosen = []\n",
    "    variables_not_chosen = columns\n",
    "    while len(variables_not_chosen) > 0:\n",
    "        # Test all models, where one variable is added and add the best one to the list of models\n",
    "        best_model = (0,sys.maxsize,0,0)\n",
    "        for variable in variables_not_chosen:\n",
    "            variables_candidates = list(variables_chosen)\n",
    "            variables_candidates.append(variable)\n",
    "            model_tested = test_model(linear_model.LinearRegression(), X[variables_candidates].values, Y, degree=len(variables_candidates))\n",
    "            if model_tested[1] < best_model[1]:\n",
    "                best_model = model_tested\n",
    "                best_variable = variable\n",
    "        # Add the best model with k variables to the list of models\n",
    "        variables_chosen.append(best_variable)\n",
    "        variables_not_chosen = variables_not_chosen[variables_not_chosen!=best_variable]\n",
    "        models.append(best_model)\n",
    "        print(str(len(variables_chosen)) + \" variable(s): \" + str(variables_chosen))\n",
    "        print(\"MSE: \" + str(best_model[1]))\n",
    "        \n",
    "    # Choose the best model\n",
    "    best_model_of_all = models[0]\n",
    "    for model in models:\n",
    "        if model[1] < best_model_of_all[1]:\n",
    "            best_model_of_all = model\n",
    "    print(\">>>Result of forward selection<<<\")\n",
    "    print(\">>>Number of variables of best model: \" + str(best_model_of_all[3]))\n",
    "    print(\">>>MSE of best model: \" + str(best_model_of_all[1]))\n",
    "    return best_model_of_all\n",
    "\n",
    "def backwards_selection(Y,X):\n",
    "    models = []\n",
    "    columns = X.columns.values\n",
    "    #Start with no variables\n",
    "    variables_chosen = columns\n",
    "    variables_not_chosen = []\n",
    "    while len(variables_chosen) > 1:\n",
    "        # Test all models, where one variable is removed and add the best one to the list of models\n",
    "        best_model = (0,sys.maxsize,0,0)\n",
    "        for variable in variables_chosen:\n",
    "            variables_candidates = list(variables_chosen)\n",
    "            variables_candidates.remove(variable)\n",
    "            model_tested = test_model(linear_model.LinearRegression(), X[variables_candidates].values, Y, degree=len(variables_candidates))\n",
    "            if model_tested[1] < best_model[1]:\n",
    "                best_model = model_tested\n",
    "                best_variable = variable\n",
    "        # Add the best model with k variables to the list of models\n",
    "        variables_chosen = variables_chosen[variables_chosen!=best_variable]\n",
    "        variables_not_chosen.append(best_variable)\n",
    "        models.append(best_model)\n",
    "        print(str(len(variables_chosen)) + \" variable(s): \" + str(variables_chosen))\n",
    "        print(\"MSE: \" + str(best_model[1]))\n",
    "        \n",
    "    # Choose the best model\n",
    "    best_model_of_all = models[0]\n",
    "    for model in models:\n",
    "        if model[1] < best_model_of_all[1]:\n",
    "            best_model_of_all = model\n",
    "    print(\">>>Result of backward selection\")\n",
    "    print(\">>>Number of variables of best model: \" + str(best_model_of_all[3]))\n",
    "    print(\">>>MSE of best model: \" + str(best_model_of_all[1]))\n",
    "    return best_model_of_all\n",
    "\n",
    "\n",
    "forward_selection(Y, X)\n",
    "backwards_selection(Y, X)"
   ]
  },
  {
   "cell_type": "markdown",
   "metadata": {},
   "source": [
    "# Causal inference"
   ]
  },
  {
   "cell_type": "markdown",
   "metadata": {},
   "source": [
    "<i>Using the same dataset, we would like to respond to the following question:\n",
    "Does democracy impact life expectancy?\n",
    "    \n",
    "In other words, we would like to investigate whether there is a statistical association between \"Full Democratic\" and \"Not Full Democratic\" on one hand and life expectancy on the other hand. (bti_ds>8.0)\n",
    "\n",
    "To accomplish that, we control our confounders population density and gdp per capita, which influence democracy but life expectancy as well.\n",
    "    \n",
    "<h6>Steps:</h6>\n",
    "<ol>\n",
    "    <li>Check the difference between control and treatment group mean life expectancy. </li>\n",
    "    <li>Compute the distance between all the control and treatment instances. <br/></li>\n",
    "    <li>Find the matches of the two groups, i.e. by their distance:\n",
    "    Here we utilize propensity score matching, e.g. logistic regression, with X being matrix with confounder variables.</li>\n",
    "    <li>Discard instances with big distance using caliper (threshold). </li>\n",
    "    <li>Check the differences with matched groups of treatment and control groups. Any significant difference?</li>\n",
    "</ol>"
   ]
  },
  {
   "cell_type": "code",
   "execution_count": 37,
   "metadata": {},
   "outputs": [
    {
     "data": {
      "text/html": [
       "<div>\n",
       "<style scoped>\n",
       "    .dataframe tbody tr th:only-of-type {\n",
       "        vertical-align: middle;\n",
       "    }\n",
       "\n",
       "    .dataframe tbody tr th {\n",
       "        vertical-align: top;\n",
       "    }\n",
       "\n",
       "    .dataframe thead th {\n",
       "        text-align: right;\n",
       "    }\n",
       "</style>\n",
       "<table border=\"1\" class=\"dataframe\">\n",
       "  <thead>\n",
       "    <tr style=\"text-align: right;\">\n",
       "      <th></th>\n",
       "      <th>index</th>\n",
       "      <th>cname</th>\n",
       "      <th>wdi_lifexp</th>\n",
       "      <th>wdi_popden</th>\n",
       "      <th>gle_cgdpc</th>\n",
       "      <th>bti_ds</th>\n",
       "      <th>democratic</th>\n",
       "    </tr>\n",
       "  </thead>\n",
       "  <tbody>\n",
       "    <tr>\n",
       "      <th>0</th>\n",
       "      <td>0</td>\n",
       "      <td>Afghanistan</td>\n",
       "      <td>62.902683</td>\n",
       "      <td>50.176178</td>\n",
       "      <td>1282.6400</td>\n",
       "      <td>3.016667</td>\n",
       "      <td>False</td>\n",
       "    </tr>\n",
       "    <tr>\n",
       "      <th>1</th>\n",
       "      <td>1</td>\n",
       "      <td>Albania</td>\n",
       "      <td>77.998390</td>\n",
       "      <td>105.441750</td>\n",
       "      <td>8516.7002</td>\n",
       "      <td>6.950000</td>\n",
       "      <td>False</td>\n",
       "    </tr>\n",
       "    <tr>\n",
       "      <th>2</th>\n",
       "      <td>2</td>\n",
       "      <td>Algeria</td>\n",
       "      <td>75.635025</td>\n",
       "      <td>16.422152</td>\n",
       "      <td>5402.1699</td>\n",
       "      <td>4.800000</td>\n",
       "      <td>False</td>\n",
       "    </tr>\n",
       "    <tr>\n",
       "      <th>3</th>\n",
       "      <td>4</td>\n",
       "      <td>Angola</td>\n",
       "      <td>60.806732</td>\n",
       "      <td>21.593380</td>\n",
       "      <td>3771.2000</td>\n",
       "      <td>4.250000</td>\n",
       "      <td>False</td>\n",
       "    </tr>\n",
       "    <tr>\n",
       "      <th>4</th>\n",
       "      <td>6</td>\n",
       "      <td>Azerbaijan</td>\n",
       "      <td>71.724754</td>\n",
       "      <td>115.348816</td>\n",
       "      <td>9793.3096</td>\n",
       "      <td>3.483333</td>\n",
       "      <td>False</td>\n",
       "    </tr>\n",
       "  </tbody>\n",
       "</table>\n",
       "</div>"
      ],
      "text/plain": [
       "   index        cname  wdi_lifexp  wdi_popden  gle_cgdpc    bti_ds  democratic\n",
       "0      0  Afghanistan   62.902683   50.176178  1282.6400  3.016667       False\n",
       "1      1      Albania   77.998390  105.441750  8516.7002  6.950000       False\n",
       "2      2      Algeria   75.635025   16.422152  5402.1699  4.800000       False\n",
       "3      4       Angola   60.806732   21.593380  3771.2000  4.250000       False\n",
       "4      6   Azerbaijan   71.724754  115.348816  9793.3096  3.483333       False"
      ]
     },
     "execution_count": 37,
     "metadata": {},
     "output_type": "execute_result"
    }
   ],
   "source": [
    "df_causal = df_original[['cname','wdi_lifexp','wdi_popden','gle_cgdpc','bti_ds']].dropna().reset_index()\n",
    "df_causal['democratic'] = df_causal['bti_ds'].apply(lambda x: True if x>8.0 else False)\n",
    "df_causal.head()"
   ]
  },
  {
   "cell_type": "code",
   "execution_count": 38,
   "metadata": {},
   "outputs": [
    {
     "data": {
      "text/html": [
       "<div>\n",
       "<style scoped>\n",
       "    .dataframe tbody tr th:only-of-type {\n",
       "        vertical-align: middle;\n",
       "    }\n",
       "\n",
       "    .dataframe tbody tr th {\n",
       "        vertical-align: top;\n",
       "    }\n",
       "\n",
       "    .dataframe thead th {\n",
       "        text-align: right;\n",
       "    }\n",
       "</style>\n",
       "<table border=\"1\" class=\"dataframe\">\n",
       "  <thead>\n",
       "    <tr style=\"text-align: right;\">\n",
       "      <th></th>\n",
       "      <th>wdi_lifexp</th>\n",
       "    </tr>\n",
       "    <tr>\n",
       "      <th>democratic</th>\n",
       "      <th></th>\n",
       "    </tr>\n",
       "  </thead>\n",
       "  <tbody>\n",
       "    <tr>\n",
       "      <th>False</th>\n",
       "      <td>68.422766</td>\n",
       "    </tr>\n",
       "    <tr>\n",
       "      <th>True</th>\n",
       "      <td>76.329023</td>\n",
       "    </tr>\n",
       "  </tbody>\n",
       "</table>\n",
       "</div>"
      ],
      "text/plain": [
       "            wdi_lifexp\n",
       "democratic            \n",
       "False        68.422766\n",
       "True         76.329023"
      ]
     },
     "execution_count": 38,
     "metadata": {},
     "output_type": "execute_result"
    }
   ],
   "source": [
    "df_causal.groupby('democratic').agg({'wdi_lifexp': np.mean})"
   ]
  },
  {
   "cell_type": "code",
   "execution_count": 39,
   "metadata": {},
   "outputs": [
    {
     "data": {
      "text/html": [
       "<div>\n",
       "<style scoped>\n",
       "    .dataframe tbody tr th:only-of-type {\n",
       "        vertical-align: middle;\n",
       "    }\n",
       "\n",
       "    .dataframe tbody tr th {\n",
       "        vertical-align: top;\n",
       "    }\n",
       "\n",
       "    .dataframe thead th {\n",
       "        text-align: right;\n",
       "    }\n",
       "</style>\n",
       "<table border=\"1\" class=\"dataframe\">\n",
       "  <thead>\n",
       "    <tr style=\"text-align: right;\">\n",
       "      <th></th>\n",
       "      <th>index</th>\n",
       "      <th>cname</th>\n",
       "      <th>wdi_lifexp</th>\n",
       "      <th>wdi_popden</th>\n",
       "      <th>gle_cgdpc</th>\n",
       "      <th>bti_ds</th>\n",
       "      <th>democratic</th>\n",
       "    </tr>\n",
       "  </thead>\n",
       "  <tbody>\n",
       "    <tr>\n",
       "      <th>0</th>\n",
       "      <td>19</td>\n",
       "      <td>Botswana</td>\n",
       "      <td>64.694389</td>\n",
       "      <td>3.826466</td>\n",
       "      <td>12770.7300</td>\n",
       "      <td>8.25</td>\n",
       "      <td>True</td>\n",
       "    </tr>\n",
       "    <tr>\n",
       "      <th>1</th>\n",
       "      <td>20</td>\n",
       "      <td>Brazil</td>\n",
       "      <td>74.958244</td>\n",
       "      <td>24.432844</td>\n",
       "      <td>9815.2402</td>\n",
       "      <td>8.05</td>\n",
       "      <td>True</td>\n",
       "    </tr>\n",
       "    <tr>\n",
       "      <th>2</th>\n",
       "      <td>24</td>\n",
       "      <td>Bulgaria</td>\n",
       "      <td>74.465851</td>\n",
       "      <td>66.543274</td>\n",
       "      <td>13967.4500</td>\n",
       "      <td>8.15</td>\n",
       "      <td>True</td>\n",
       "    </tr>\n",
       "    <tr>\n",
       "      <th>3</th>\n",
       "      <td>35</td>\n",
       "      <td>Chile</td>\n",
       "      <td>78.964485</td>\n",
       "      <td>23.689362</td>\n",
       "      <td>15519.0800</td>\n",
       "      <td>9.15</td>\n",
       "      <td>True</td>\n",
       "    </tr>\n",
       "    <tr>\n",
       "      <th>4</th>\n",
       "      <td>42</td>\n",
       "      <td>Costa Rica</td>\n",
       "      <td>79.416855</td>\n",
       "      <td>93.176163</td>\n",
       "      <td>9485.7100</td>\n",
       "      <td>9.20</td>\n",
       "      <td>True</td>\n",
       "    </tr>\n",
       "  </tbody>\n",
       "</table>\n",
       "</div>"
      ],
      "text/plain": [
       "   index       cname  wdi_lifexp  wdi_popden   gle_cgdpc  bti_ds  democratic\n",
       "0     19    Botswana   64.694389    3.826466  12770.7300    8.25        True\n",
       "1     20      Brazil   74.958244   24.432844   9815.2402    8.05        True\n",
       "2     24    Bulgaria   74.465851   66.543274  13967.4500    8.15        True\n",
       "3     35       Chile   78.964485   23.689362  15519.0800    9.15        True\n",
       "4     42  Costa Rica   79.416855   93.176163   9485.7100    9.20        True"
      ]
     },
     "execution_count": 39,
     "metadata": {},
     "output_type": "execute_result"
    }
   ],
   "source": [
    "democratic_countries = df_causal[df_causal['democratic']==True].reset_index(drop=True)\n",
    "not_democratic_countries = df_causal[df_causal['democratic']==False].reset_index(drop=True)\n",
    "democratic_countries.head()"
   ]
  },
  {
   "cell_type": "markdown",
   "metadata": {},
   "source": [
    "#### Causation check via matching and confounder control"
   ]
  },
  {
   "cell_type": "code",
   "execution_count": 40,
   "metadata": {},
   "outputs": [],
   "source": [
    "# Get wdi_popden and gle_cgdpc values of democratic and not democratic countries\n",
    "democratic_values = democratic_countries[['wdi_popden', 'gle_cgdpc']].values\n",
    "not_democratic_values = not_democratic_countries[['wdi_popden', 'gle_cgdpc']].values\n",
    "\n",
    "# Compute distance matrix (1 row for each democratic country, 1 column for each not democratic country)\n",
    "inverse_covariance_matrix = np.linalg.inv(np.cov(df_causal['wdi_popden'],df_causal['gle_cgdpc']))\n",
    "mahalanobis_matrix = np.matrix([[mahalanobis(democratic_values[j], not_democratic_values[i], inverse_covariance_matrix) for i in range(0, len(not_democratic_values))] for j in range(0, len(democratic_values))])"
   ]
  },
  {
   "cell_type": "code",
   "execution_count": 41,
   "metadata": {},
   "outputs": [],
   "source": [
    "# Greedy matching as a dictionary with treated_group (key) and control_group (value)\n",
    "# Matches up to a given threshold_in_stds\n",
    "def greedy_matching (control_group, treated_group, mahalanobis_matrix, threshold_in_stds):\n",
    "    mahalanobis_matrix = mahalanobis_matrix.copy()\n",
    "    # For each element in the treated_group pick the closest element in the control_group\n",
    "    matching = {}\n",
    "    #column_names, data = ['treated_group', 'control_group', 'distance'], []\n",
    "    for i,element in enumerate(treated_group):\n",
    "        # Get distances from the current element to each element of the control_group:\n",
    "        distances = [mahalanobis_matrix[i,j] for j in range(0, len(control_group))]\n",
    "        # Check for maximal acceptable distance\n",
    "        if np.min(distances) > threshold_in_stds:\n",
    "            return matching\n",
    "        # Find the index of the best match for the element\n",
    "        best_match = np.argmin(distances)\n",
    "        # Store the matching\n",
    "        matching [i] = best_match \n",
    "        # Prevent matching the same best_match again by setting the column in the distance matrix to infinity\n",
    "        mahalanobis_matrix[:,best_match] = np.inf     \n",
    "    return matching"
   ]
  },
  {
   "cell_type": "code",
   "execution_count": 42,
   "metadata": {},
   "outputs": [
    {
     "data": {
      "text/html": [
       "<div>\n",
       "<style scoped>\n",
       "    .dataframe tbody tr th:only-of-type {\n",
       "        vertical-align: middle;\n",
       "    }\n",
       "\n",
       "    .dataframe tbody tr th {\n",
       "        vertical-align: top;\n",
       "    }\n",
       "\n",
       "    .dataframe thead th {\n",
       "        text-align: right;\n",
       "    }\n",
       "</style>\n",
       "<table border=\"1\" class=\"dataframe\">\n",
       "  <thead>\n",
       "    <tr style=\"text-align: right;\">\n",
       "      <th></th>\n",
       "      <th>Democratic Countries (Treated)</th>\n",
       "      <th>Not Democratic Countries (Control)</th>\n",
       "      <th>Mahalanobis Distance</th>\n",
       "    </tr>\n",
       "  </thead>\n",
       "  <tbody>\n",
       "    <tr>\n",
       "      <th>0</th>\n",
       "      <td>Botswana</td>\n",
       "      <td>Turkmenistan</td>\n",
       "      <td>0.034920</td>\n",
       "    </tr>\n",
       "    <tr>\n",
       "      <th>1</th>\n",
       "      <td>Brazil</td>\n",
       "      <td>Peru</td>\n",
       "      <td>0.048601</td>\n",
       "    </tr>\n",
       "    <tr>\n",
       "      <th>2</th>\n",
       "      <td>Bulgaria</td>\n",
       "      <td>Mexico</td>\n",
       "      <td>0.028597</td>\n",
       "    </tr>\n",
       "    <tr>\n",
       "      <th>3</th>\n",
       "      <td>Chile</td>\n",
       "      <td>Argentina</td>\n",
       "      <td>0.032559</td>\n",
       "    </tr>\n",
       "    <tr>\n",
       "      <th>4</th>\n",
       "      <td>Costa Rica</td>\n",
       "      <td>Macedonia</td>\n",
       "      <td>0.021832</td>\n",
       "    </tr>\n",
       "    <tr>\n",
       "      <th>5</th>\n",
       "      <td>Croatia</td>\n",
       "      <td>Belarus</td>\n",
       "      <td>0.041238</td>\n",
       "    </tr>\n",
       "  </tbody>\n",
       "</table>\n",
       "</div>"
      ],
      "text/plain": [
       "  Democratic Countries (Treated) Not Democratic Countries (Control)  \\\n",
       "0                       Botswana                       Turkmenistan   \n",
       "1                         Brazil                               Peru   \n",
       "2                       Bulgaria                             Mexico   \n",
       "3                          Chile                          Argentina   \n",
       "4                     Costa Rica                          Macedonia   \n",
       "5                        Croatia                            Belarus   \n",
       "\n",
       "   Mahalanobis Distance  \n",
       "0              0.034920  \n",
       "1              0.048601  \n",
       "2              0.028597  \n",
       "3              0.032559  \n",
       "4              0.021832  \n",
       "5              0.041238  "
      ]
     },
     "execution_count": 42,
     "metadata": {},
     "output_type": "execute_result"
    }
   ],
   "source": [
    "# Match countries\n",
    "matching = greedy_matching(not_democratic_values, democratic_values, mahalanobis_matrix, 0.2)\n",
    "\n",
    "# Visualize matching\n",
    "column_names, data = ['Democratic Countries (Treated)', 'Not Democratic Countries (Control)', 'Mahalanobis Distance'], []\n",
    "for k, v in matching.items():\n",
    "    data.append([democratic_countries.at[k,'cname'], not_democratic_countries.at[v,'cname'], mahalanobis_matrix[k,v]])  \n",
    "    \n",
    "pd.DataFrame(data=data, columns=column_names)"
   ]
  },
  {
   "cell_type": "code",
   "execution_count": 43,
   "metadata": {},
   "outputs": [
    {
     "name": "stdout",
     "output_type": "stream",
     "text": [
      "Average life expectation (democratic):      74.99631245930989\n",
      "Average life expectation (not democratic):  73.85632705688477\n"
     ]
    }
   ],
   "source": [
    "# Compare average life expectation\n",
    "life_exp_democratic = float(democratic_countries.loc[democratic_countries.index.isin(list(matching.keys())), ['wdi_lifexp']].mean())\n",
    "life_exp_not_democratic = float(not_democratic_countries.loc[not_democratic_countries.index.isin(list(matching.values())), ['wdi_lifexp']].mean())\n",
    "print(f'Average life expectation (democratic):      {life_exp_democratic}')\n",
    "print(f'Average life expectation (not democratic):  {life_exp_not_democratic}')"
   ]
  },
  {
   "cell_type": "markdown",
   "metadata": {},
   "source": [
    "### Conclusion:\n",
    "\n",
    "Given the fact that after matching we actually decreased the difference between control and treatment group after matching, this kind of fact leaves to conclusion that difference in life quality might not de dependable on the level of democracy within the countries. "
   ]
  }
 ],
 "metadata": {
  "kernelspec": {
   "display_name": "Python 3",
   "language": "python",
   "name": "python3"
  },
  "language_info": {
   "codemirror_mode": {
    "name": "ipython",
    "version": 3
   },
   "file_extension": ".py",
   "mimetype": "text/x-python",
   "name": "python",
   "nbconvert_exporter": "python",
   "pygments_lexer": "ipython3",
   "version": "3.7.6"
  }
 },
 "nbformat": 4,
 "nbformat_minor": 2
}
